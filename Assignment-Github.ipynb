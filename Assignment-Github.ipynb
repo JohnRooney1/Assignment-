{
    "metadata": {
        "kernelspec": {
            "name": "SQL",
            "display_name": "SQL",
            "language": "sql"
        },
        "language_info": {
            "name": "sql",
            "version": ""
        }
    },
    "nbformat_minor": 2,
    "nbformat": 4,
    "cells": [
        {
            "cell_type": "markdown",
            "source": [
                "Create the Schema DDL for the Database"
            ],
            "metadata": {
                "azdata_cell_guid": "0ed37bd9-f11e-462c-92d7-41bf4e6f0f01"
            }
        },
        {
            "cell_type": "code",
            "source": [
                "IF NOT EXISTS (SELECT * FROM sys.schemas WHERE name = 'dim' ) \n",
                "BEGIN\n",
                "\tEXEC sp_executesql N'CREATE SCHEMA dim AUTHORIZATION dbo;'\n",
                "END\n",
                ";"
            ],
            "metadata": {
                "azdata_cell_guid": "a4899199-0136-4953-a0b4-1e5ed6d62639",
                "language": "sql"
            },
            "outputs": [],
            "execution_count": null
        },
        {
            "cell_type": "code",
            "source": [
                "IF NOT EXISTS (SELECT * FROM sys.schemas WHERE name = 'stg' ) \n",
                "BEGIN\n",
                "\tEXEC sp_executesql N'CREATE SCHEMA stg AUTHORIZATION dbo;'\n",
                "END\n",
                ";"
            ],
            "metadata": {
                "azdata_cell_guid": "28b3e002-148a-4fbb-b43e-620d7b061c17",
                "language": "sql"
            },
            "outputs": [],
            "execution_count": null
        },
        {
            "cell_type": "code",
            "source": [
                "IF NOT EXISTS (SELECT * FROM sys.schemas WHERE name = 'f' ) \n",
                "BEGIN\n",
                "\tEXEC sp_executesql N'CREATE SCHEMA f AUTHORIZATION dbo;'\n",
                "END\n",
                ";"
            ],
            "metadata": {
                "azdata_cell_guid": "f62e1a08-659a-404e-8521-135d3b9d1090",
                "language": "sql"
            },
            "outputs": [],
            "execution_count": null
        },
        {
            "cell_type": "markdown",
            "source": [
                "Create the Customer Dim Table"
            ],
            "metadata": {
                "azdata_cell_guid": "60017eb2-dd29-4739-8879-0f6e8fde5358"
            },
            "attachments": {}
        },
        {
            "cell_type": "code",
            "source": [
                "IF NOT EXISTS (SELECT * FROM INFORMATION_SCHEMA.TABLES WHERE TABLE_SCHEMA = 'dim' AND TABLE_NAME = 'Customers')\r\n",
                "BEGIN\r\n",
                "\tCREATE TABLE dim.Customers(\r\n",
                "\tpkCustomer int IDENTITY(1000,1) NOT NULL,\r\n",
                "\tCustomerID nvarchar(5) NOT NULL,\r\n",
                "\tCustomer nvarchar(40) NOT NULL,\r\n",
                "\tCity nvarchar(15) NULL,\r\n",
                "\tCountry nvarchar(15) NULL,\r\n",
                "\tLoadDate DATE NOT NULL,\r\n",
                "\tSourceCountry nvarchar(25) NULL\r\n",
                "\t)\r\n",
                "\t;\r\n",
                "\r\n",
                "\tALTER TABLE dim.Customers\r\n",
                "\tADD CONSTRAINT PK_Customers_LUP PRIMARY KEY(pkCustomer);\r\n",
                "\r\n",
                "\tALTER TABLE dim.Customers\r\n",
                "    ADD CONSTRAINT UC_Customers_ID UNIQUE (CustomerID);\r\n",
                "\r\n",
                "END\r\n",
                "\r\n",
                "\r\n",
                "GO\r\n",
                ""
            ],
            "metadata": {
                "azdata_cell_guid": "bb6d57a6-3e06-4b42-b191-ea2a39806c7b",
                "language": "sql"
            },
            "outputs": [],
            "execution_count": null
        },
        {
            "cell_type": "markdown",
            "source": [
                "Create the Calendar Dim Table"
            ],
            "metadata": {
                "azdata_cell_guid": "91390e85-8cbc-4519-87f9-06bd21f56db7"
            },
            "attachments": {}
        },
        {
            "cell_type": "code",
            "source": [
                "IF NOT EXISTS (SELECT * FROM INFORMATION_SCHEMA.TABLES WHERE TABLE_SCHEMA = 'dim' AND TABLE_NAME = 'Calendar')\r\n",
                "BEGIN\r\n",
                "-- Create the Calendar table\r\n",
                "CREATE TABLE dim.Calendar\r\n",
                "(\r\n",
                "    pkCalendar INT NOT NULL,\r\n",
                "    DateValue DATE NOT NULL,\r\n",
                "    Year INT NOT NULL,\r\n",
                "    Quarter INT NOT NULL,\r\n",
                "\tQtr VARCHAR(3) NOT NULL,\r\n",
                "    Month INT NOT NULL,\r\n",
                "    MonthName VARCHAR(10) NOT NULL,\r\n",
                "\tMonthShort VARCHAR(3) NOT NULL,\r\n",
                "    Week INT NOT NULL,\r\n",
                "    Day INT NOT NULL,\r\n",
                "\tDayName VARCHAR(10) NOT NULL,\r\n",
                "\tDayShort VARCHAR(3) NOT NULL,\r\n",
                "    IsWeekday BIT NOT NULL,\r\n",
                "\tWeekday VARCHAR(3) NOT NULL\r\n",
                ");\r\n",
                "\r\n",
                "\tALTER TABLE dim.Calendar\r\n",
                "\tADD CONSTRAINT PK_Calendar_Julian PRIMARY KEY(pkCalendar);\r\n",
                "\r\n",
                "\tALTER TABLE dim.Calendar\r\n",
                "    ADD CONSTRAINT UC_Calendar UNIQUE (DateValue);\r\n",
                "END\r\n",
                "\r\n",
                "GO\r\n",
                ""
            ],
            "metadata": {
                "azdata_cell_guid": "6aa69e8d-a04f-4977-b965-5a1dedcd8c08",
                "language": "sql"
            },
            "outputs": [],
            "execution_count": null
        },
        {
            "cell_type": "markdown",
            "source": [
                "Create the Shipper Dim Table"
            ],
            "metadata": {
                "azdata_cell_guid": "7f932ad6-8899-45b4-a5a4-bd6beb14a46e"
            },
            "attachments": {}
        },
        {
            "cell_type": "code",
            "source": [
                "IF NOT EXISTS (SELECT * FROM INFORMATION_SCHEMA.TABLES WHERE TABLE_SCHEMA = 'dim' AND TABLE_NAME = 'Shipper')\r\n",
                "BEGIN\r\n",
                "\r\n",
                "CREATE TABLE dim.Shipper\r\n",
                "(\r\n",
                "    pkShipId int not null,\r\n",
                "\tShipper nvarchar(40) not null,\r\n",
                "\tPhone nvarchar(24) null\r\n",
                ");\r\n",
                "\r\n",
                "\tALTER TABLE dim.Shipper\r\n",
                "\tADD CONSTRAINT PK_Ship PRIMARY KEY(pkShipId);\r\n",
                "END\r\n",
                "\r\n",
                "GO"
            ],
            "metadata": {
                "azdata_cell_guid": "c0ea32ba-3a98-44ed-ada9-3cc7c0ac4c3f",
                "language": "sql"
            },
            "outputs": [],
            "execution_count": null
        },
        {
            "cell_type": "markdown",
            "source": [
                "Create the Products Dim Table"
            ],
            "metadata": {
                "azdata_cell_guid": "abbc136b-6436-4c81-b16c-12d7aad252d0"
            },
            "attachments": {}
        },
        {
            "cell_type": "code",
            "source": [
                "IF NOT EXISTS (SELECT * FROM INFORMATION_SCHEMA.TABLES WHERE TABLE_SCHEMA = 'dim' AND TABLE_NAME = 'Products')\r\n",
                "BEGIN\r\n",
                "CREATE TABLE dim.Products(\r\n",
                "\tpkProdId int NOT NULL,\r\n",
                "\tProductId int NOT NULL,\r\n",
                "\tProduct nvarchar(50) NOT NULL,\r\n",
                "\tProductCategory nvarchar(25) NOT NULL,\r\n",
                "\tCategoryDesc ntext NULL,\r\n",
                "\tUnitPrice money NULL,\r\n",
                "\tUnitsInStock int NULL,\r\n",
                "\tUnitsOnOrder int NULL,\r\n",
                "\tReorderLevel int NULL,\r\n",
                "\tDiscontinued bit NOT NULL,\r\n",
                "\tReorderFlag nvarchar(3) NOT NULL\r\n",
                ");\r\n",
                "\r\n",
                "\tALTER TABLE dim.Products\r\n",
                "\tADD CONSTRAINT PK_Prods PRIMARY KEY(pkProdId);\r\n",
                "\r\n",
                "\tALTER TABLE dim.Products\r\n",
                "    ADD CONSTRAINT UC_Prods UNIQUE (ProductId);\r\n",
                "END\r\n",
                ";\r\n",
                "GO"
            ],
            "metadata": {
                "azdata_cell_guid": "4ee48006-af2d-406c-a64b-9f2771b7ae46",
                "language": "sql"
            },
            "outputs": [],
            "execution_count": null
        },
        {
            "cell_type": "markdown",
            "source": [
                "Create the Employees Dim Table"
            ],
            "metadata": {
                "azdata_cell_guid": "ce0c832f-b84a-46e5-bbe1-b6fb904f9c0a"
            },
            "attachments": {}
        },
        {
            "cell_type": "code",
            "source": [
                "IF NOT EXISTS (SELECT * FROM INFORMATION_SCHEMA.TABLES WHERE TABLE_SCHEMA = 'dim' AND TABLE_NAME = 'Employees')\r\n",
                "BEGIN\r\n",
                "CREATE TABLE dim.Employees(\r\n",
                "\tEmployeeID int NOT NULL,\r\n",
                "\tEmployee nvarchar(50) NOT NULL,\r\n",
                "\tTitle nvarchar(30) NULL,\r\n",
                "\tBirthDate datetime NULL,\r\n",
                "\tHireDate datetime NULL,\r\n",
                "\tCity nvarchar(15) NULL,\r\n",
                "\tCountry nvarchar(15) NULL,\r\n",
                "\tReportsTo int NULL\r\n",
                ");\r\n",
                "\tALTER TABLE dim.Employees\r\n",
                "\tADD CONSTRAINT PK_Emp PRIMARY KEY(EmployeeID);\r\n",
                "\r\n",
                "END\r\n",
                "\r\n",
                "GO\r\n",
                ""
            ],
            "metadata": {
                "azdata_cell_guid": "ec301368-3123-449f-8952-2e4a95f78b60",
                "language": "sql"
            },
            "outputs": [],
            "execution_count": null
        },
        {
            "cell_type": "markdown",
            "source": [
                "**<u>Building Fact Tables</u>**"
            ],
            "metadata": {
                "azdata_cell_guid": "55d94019-a78f-4737-a31b-8ec65b8597ea"
            },
            "attachments": {}
        },
        {
            "cell_type": "markdown",
            "source": [
                "Create OrderPerf f.table\n",
                "\n",
                "OrderID, OrderDate, Customer, Freight(f)\n",
                "\n",
                "**OrderPerf Table**"
            ],
            "metadata": {
                "azdata_cell_guid": "75a062ff-16d5-43ba-abc5-9f2555d7664e"
            },
            "attachments": {}
        },
        {
            "cell_type": "code",
            "source": [
                "IF EXISTS (SELECT * FROM INFORMATION_SCHEMA.TABLES WHERE TABLE_SCHEMA = 'f' AND TABLE_NAME = 'OrderPerf')\r\n",
                "BEGIN \r\n",
                "\tDROP TABLE f.OrderPerf;\r\n",
                "END\r\n",
                "\r\n",
                "GO\r\n",
                "\r\n",
                "CREATE TABLE f.OrderPerf(\r\n",
                "\tOrderID int NOT NULL,\r\n",
                "\tfkCalendar int NOT NULL,\r\n",
                "\tfkCustomer int NOT NULL,\r\n",
                "\tfkShipper int NULL,\r\n",
                "\tfkEmployee int NULL,\r\n",
                "\tFreight money NOT NULL,\r\n",
                "\tDaysToShip int NULL,\r\n",
                "\tDaysTilRequired int NULL,\r\n",
                "\tOrderCount int NOT NULL\r\n",
                ");\r\n",
                "\r\n",
                "-- Could use PRIMARY or UNIQUE for the ORDERID - just used to not load dupes\r\n",
                "\r\n",
                "ALTER TABLE f.OrderPerf\r\n",
                "ADD CONSTRAINT PK_ORD PRIMARY KEY(OrderID)\r\n",
                ";\r\n",
                "\r\n",
                "ALTER TABLE f.OrderPerf\r\n",
                "ADD CONSTRAINT FK_ORDtoCAL\r\n",
                "\tFOREIGN KEY (fkCalendar)              -- FROM the LOCAL TABLE\r\n",
                "\t REFERENCES  dim.Calendar(pkCalendar) -- TO the FOREIGN TABLE\r\n",
                ";\r\n",
                "\r\n",
                "ALTER TABLE f.OrderPerf\r\n",
                "ADD CONSTRAINT FK_ORDtoCUST\r\n",
                "\tFOREIGN KEY (fkCustomer)              -- FROM the LOCAL TABLE\r\n",
                "\t REFERENCES  dim.Customers(pkCustomer) -- TO the FOREIGN TABLE\r\n",
                ";\r\n",
                "\r\n",
                "ALTER TABLE f.OrderPerf\r\n",
                "ADD CONSTRAINT FK_ORDtoSHIP\r\n",
                "\tFOREIGN KEY (fkShipper)\r\n",
                "\t REFERENCES dim.Shipper(pkShipId)\r\n",
                ";\r\n",
                "\r\n",
                "ALTER TABLE f.OrderPerf\r\n",
                "ADD CONSTRAINT FK_ORDtoEMP\r\n",
                "\tFOREIGN KEY (fkEmployee)\r\n",
                "\t REFERENCES dim.Employees(EmployeeID)\r\n",
                ";"
            ],
            "metadata": {
                "azdata_cell_guid": "43269249-a273-4426-95eb-1e19039dea41",
                "language": "sql"
            },
            "outputs": [],
            "execution_count": null
        },
        {
            "cell_type": "markdown",
            "source": [
                "**ProductsPerf Table**"
            ],
            "metadata": {
                "azdata_cell_guid": "5ef69ba7-3dff-4efd-bd93-327714620c27"
            },
            "attachments": {}
        },
        {
            "cell_type": "code",
            "source": [
                "IF EXISTS (SELECT * FROM INFORMATION_SCHEMA.TABLES WHERE TABLE_SCHEMA = 'f' AND TABLE_NAME = 'ProductPerf')\r\n",
                "BEGIN \r\n",
                "\tDROP TABLE f.ProductPerf;\r\n",
                "END\r\n",
                "\r\n",
                "CREATE TABLE f.ProductPerf(\r\n",
                "\tOrderID int NOT NULL,\r\n",
                "\tOrderDate int NOT NULL,\r\n",
                "\tProductID int NOT NULL,\r\n",
                "\tCustomerID int NOT NULL,\r\n",
                "\tUnitPrice money NOT NULL,\r\n",
                "\tQuantity smallint NOT NULL,\r\n",
                "\tDiscount float NOT NULL,\r\n",
                "\tDiscFlag int NOT NULL,\r\n",
                "\tLineTotal money NULL\r\n",
                ");\r\n",
                "\r\n",
                "ALTER TABLE f.ProductPerf\r\n",
                "ADD CONSTRAINT PK_ProdPerf PRIMARY KEY(OrderID, ProductID)\r\n",
                "\r\n",
                "ALTER TABLE f.ProductPerf\r\n",
                "ADD CONSTRAINT FK_PRODtoCAL\r\n",
                "\tFOREIGN KEY (OrderDate)\r\n",
                "\t REFERENCES dim.Calendar(pkCalendar)\r\n",
                ";\r\n",
                "\r\n",
                "ALTER TABLE f.ProductPerf\r\n",
                "ADD CONSTRAINT FK_PRODtoPROD\r\n",
                "\tFOREIGN KEY (ProductID)\r\n",
                "\t REFERENCES dim.Products(pkProdId)\r\n",
                ";\r\n",
                "\r\n",
                "ALTER TABLE f.ProductPerf\r\n",
                "ADD CONSTRAINT FK_PRODtoCUST\r\n",
                "\tFOREIGN KEY (CustomerID)\r\n",
                "\t REFERENCES dim.Customers(pkCustomer)\r\n",
                ";"
            ],
            "metadata": {
                "azdata_cell_guid": "35bed26c-a292-4571-bca3-51b3ac20de89",
                "language": "sql"
            },
            "outputs": [],
            "execution_count": null
        }
    ]
}